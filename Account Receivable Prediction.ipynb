{
 "cells": [
  {
   "cell_type": "code",
   "execution_count": 1,
   "id": "b03b2156",
   "metadata": {},
   "outputs": [],
   "source": [
    "import numpy as np \n",
    "import pandas as pd \n",
    "from datetime import datetime\n",
    "import matplotlib.pyplot as plt\n",
    "import seaborn as sns\n",
    "from sklearn.linear_model import LogisticRegression\n",
    "from sklearn.preprocessing import StandardScaler\n",
    "#import category_encoders as ce\n",
    "from sklearn.model_selection import train_test_split\n",
    "from sklearn.metrics import plot_confusion_matrix\n",
    "from sklearn.metrics import accuracy_score\n",
    "from sklearn.tree import DecisionTreeClassifier\n",
    "from sklearn.ensemble import RandomForestClassifier\n",
    "pd.options.display.float_format = '{:.2f}'.format"
   ]
  },
  {
   "cell_type": "markdown",
   "id": "10c1799a",
   "metadata": {},
   "source": [
    "**Data loading**"
   ]
  },
  {
   "cell_type": "code",
   "execution_count": 2,
   "id": "136cefb9",
   "metadata": {},
   "outputs": [],
   "source": [
    "df=pd.read_csv(\"Accounts_Receivable.csv\")"
   ]
  },
  {
   "cell_type": "code",
   "execution_count": 3,
   "id": "eea66969",
   "metadata": {},
   "outputs": [
    {
     "data": {
      "text/html": [
       "<div>\n",
       "<style scoped>\n",
       "    .dataframe tbody tr th:only-of-type {\n",
       "        vertical-align: middle;\n",
       "    }\n",
       "\n",
       "    .dataframe tbody tr th {\n",
       "        vertical-align: top;\n",
       "    }\n",
       "\n",
       "    .dataframe thead th {\n",
       "        text-align: right;\n",
       "    }\n",
       "</style>\n",
       "<table border=\"1\" class=\"dataframe\">\n",
       "  <thead>\n",
       "    <tr style=\"text-align: right;\">\n",
       "      <th></th>\n",
       "      <th>countryCode</th>\n",
       "      <th>customerID</th>\n",
       "      <th>PaperlessDate</th>\n",
       "      <th>invoiceNumber</th>\n",
       "      <th>InvoiceDate</th>\n",
       "      <th>DueDate</th>\n",
       "      <th>InvoiceAmount</th>\n",
       "      <th>Disputed</th>\n",
       "      <th>SettledDate</th>\n",
       "      <th>PaperlessBill</th>\n",
       "      <th>DaysToSettle</th>\n",
       "      <th>DaysLate</th>\n",
       "    </tr>\n",
       "  </thead>\n",
       "  <tbody>\n",
       "    <tr>\n",
       "      <th>0</th>\n",
       "      <td>391</td>\n",
       "      <td>0379-NEVHP</td>\n",
       "      <td>4/6/2013</td>\n",
       "      <td>611365</td>\n",
       "      <td>1/2/2013</td>\n",
       "      <td>2/1/2013</td>\n",
       "      <td>55.94</td>\n",
       "      <td>No</td>\n",
       "      <td>1/15/2013</td>\n",
       "      <td>Paper</td>\n",
       "      <td>13</td>\n",
       "      <td>0</td>\n",
       "    </tr>\n",
       "    <tr>\n",
       "      <th>1</th>\n",
       "      <td>406</td>\n",
       "      <td>8976-AMJEO</td>\n",
       "      <td>3/3/2012</td>\n",
       "      <td>7900770</td>\n",
       "      <td>1/26/2013</td>\n",
       "      <td>2/25/2013</td>\n",
       "      <td>61.74</td>\n",
       "      <td>Yes</td>\n",
       "      <td>3/3/2013</td>\n",
       "      <td>Electronic</td>\n",
       "      <td>36</td>\n",
       "      <td>6</td>\n",
       "    </tr>\n",
       "    <tr>\n",
       "      <th>2</th>\n",
       "      <td>391</td>\n",
       "      <td>2820-XGXSB</td>\n",
       "      <td>1/26/2012</td>\n",
       "      <td>9231909</td>\n",
       "      <td>7/3/2013</td>\n",
       "      <td>8/2/2013</td>\n",
       "      <td>65.88</td>\n",
       "      <td>No</td>\n",
       "      <td>7/8/2013</td>\n",
       "      <td>Electronic</td>\n",
       "      <td>5</td>\n",
       "      <td>0</td>\n",
       "    </tr>\n",
       "    <tr>\n",
       "      <th>3</th>\n",
       "      <td>406</td>\n",
       "      <td>9322-YCTQO</td>\n",
       "      <td>4/6/2012</td>\n",
       "      <td>9888306</td>\n",
       "      <td>2/10/2013</td>\n",
       "      <td>3/12/2013</td>\n",
       "      <td>105.92</td>\n",
       "      <td>No</td>\n",
       "      <td>3/17/2013</td>\n",
       "      <td>Electronic</td>\n",
       "      <td>35</td>\n",
       "      <td>5</td>\n",
       "    </tr>\n",
       "    <tr>\n",
       "      <th>4</th>\n",
       "      <td>818</td>\n",
       "      <td>6627-ELFBK</td>\n",
       "      <td>11/26/2012</td>\n",
       "      <td>15752855</td>\n",
       "      <td>10/25/2012</td>\n",
       "      <td>11/24/2012</td>\n",
       "      <td>72.27</td>\n",
       "      <td>Yes</td>\n",
       "      <td>11/28/2012</td>\n",
       "      <td>Paper</td>\n",
       "      <td>34</td>\n",
       "      <td>4</td>\n",
       "    </tr>\n",
       "  </tbody>\n",
       "</table>\n",
       "</div>"
      ],
      "text/plain": [
       "   countryCode  customerID PaperlessDate  invoiceNumber InvoiceDate  \\\n",
       "0          391  0379-NEVHP      4/6/2013         611365    1/2/2013   \n",
       "1          406  8976-AMJEO      3/3/2012        7900770   1/26/2013   \n",
       "2          391  2820-XGXSB     1/26/2012        9231909    7/3/2013   \n",
       "3          406  9322-YCTQO      4/6/2012        9888306   2/10/2013   \n",
       "4          818  6627-ELFBK    11/26/2012       15752855  10/25/2012   \n",
       "\n",
       "      DueDate  InvoiceAmount Disputed SettledDate PaperlessBill  DaysToSettle  \\\n",
       "0    2/1/2013          55.94       No   1/15/2013         Paper            13   \n",
       "1   2/25/2013          61.74      Yes    3/3/2013    Electronic            36   \n",
       "2    8/2/2013          65.88       No    7/8/2013    Electronic             5   \n",
       "3   3/12/2013         105.92       No   3/17/2013    Electronic            35   \n",
       "4  11/24/2012          72.27      Yes  11/28/2012         Paper            34   \n",
       "\n",
       "   DaysLate  \n",
       "0         0  \n",
       "1         6  \n",
       "2         0  \n",
       "3         5  \n",
       "4         4  "
      ]
     },
     "execution_count": 3,
     "metadata": {},
     "output_type": "execute_result"
    }
   ],
   "source": [
    "df.head()"
   ]
  },
  {
   "cell_type": "code",
   "execution_count": 4,
   "id": "537750ee",
   "metadata": {},
   "outputs": [
    {
     "data": {
      "text/plain": [
       "(2466, 12)"
      ]
     },
     "execution_count": 4,
     "metadata": {},
     "output_type": "execute_result"
    }
   ],
   "source": [
    "df.shape"
   ]
  },
  {
   "cell_type": "code",
   "execution_count": 5,
   "id": "44ff2087",
   "metadata": {},
   "outputs": [
    {
     "data": {
      "text/html": [
       "<div>\n",
       "<style scoped>\n",
       "    .dataframe tbody tr th:only-of-type {\n",
       "        vertical-align: middle;\n",
       "    }\n",
       "\n",
       "    .dataframe tbody tr th {\n",
       "        vertical-align: top;\n",
       "    }\n",
       "\n",
       "    .dataframe thead th {\n",
       "        text-align: right;\n",
       "    }\n",
       "</style>\n",
       "<table border=\"1\" class=\"dataframe\">\n",
       "  <thead>\n",
       "    <tr style=\"text-align: right;\">\n",
       "      <th></th>\n",
       "      <th>countryCode</th>\n",
       "      <th>invoiceNumber</th>\n",
       "      <th>InvoiceAmount</th>\n",
       "      <th>DaysToSettle</th>\n",
       "      <th>DaysLate</th>\n",
       "    </tr>\n",
       "  </thead>\n",
       "  <tbody>\n",
       "    <tr>\n",
       "      <th>count</th>\n",
       "      <td>2466.00</td>\n",
       "      <td>2466.00</td>\n",
       "      <td>2466.00</td>\n",
       "      <td>2466.00</td>\n",
       "      <td>2466.00</td>\n",
       "    </tr>\n",
       "    <tr>\n",
       "      <th>mean</th>\n",
       "      <td>620.45</td>\n",
       "      <td>4978430514.97</td>\n",
       "      <td>59.90</td>\n",
       "      <td>26.44</td>\n",
       "      <td>3.44</td>\n",
       "    </tr>\n",
       "    <tr>\n",
       "      <th>std</th>\n",
       "      <td>215.93</td>\n",
       "      <td>2884271865.47</td>\n",
       "      <td>20.44</td>\n",
       "      <td>12.33</td>\n",
       "      <td>6.29</td>\n",
       "    </tr>\n",
       "    <tr>\n",
       "      <th>min</th>\n",
       "      <td>391.00</td>\n",
       "      <td>611365.00</td>\n",
       "      <td>5.26</td>\n",
       "      <td>0.00</td>\n",
       "      <td>0.00</td>\n",
       "    </tr>\n",
       "    <tr>\n",
       "      <th>25%</th>\n",
       "      <td>406.00</td>\n",
       "      <td>2528853991.00</td>\n",
       "      <td>46.40</td>\n",
       "      <td>18.00</td>\n",
       "      <td>0.00</td>\n",
       "    </tr>\n",
       "    <tr>\n",
       "      <th>50%</th>\n",
       "      <td>770.00</td>\n",
       "      <td>4964228313.50</td>\n",
       "      <td>60.56</td>\n",
       "      <td>26.00</td>\n",
       "      <td>0.00</td>\n",
       "    </tr>\n",
       "    <tr>\n",
       "      <th>75%</th>\n",
       "      <td>818.00</td>\n",
       "      <td>7494512439.00</td>\n",
       "      <td>73.77</td>\n",
       "      <td>35.00</td>\n",
       "      <td>5.00</td>\n",
       "    </tr>\n",
       "    <tr>\n",
       "      <th>max</th>\n",
       "      <td>897.00</td>\n",
       "      <td>9990243864.00</td>\n",
       "      <td>128.28</td>\n",
       "      <td>75.00</td>\n",
       "      <td>45.00</td>\n",
       "    </tr>\n",
       "  </tbody>\n",
       "</table>\n",
       "</div>"
      ],
      "text/plain": [
       "       countryCode  invoiceNumber  InvoiceAmount  DaysToSettle  DaysLate\n",
       "count      2466.00        2466.00        2466.00       2466.00   2466.00\n",
       "mean        620.45  4978430514.97          59.90         26.44      3.44\n",
       "std         215.93  2884271865.47          20.44         12.33      6.29\n",
       "min         391.00      611365.00           5.26          0.00      0.00\n",
       "25%         406.00  2528853991.00          46.40         18.00      0.00\n",
       "50%         770.00  4964228313.50          60.56         26.00      0.00\n",
       "75%         818.00  7494512439.00          73.77         35.00      5.00\n",
       "max         897.00  9990243864.00         128.28         75.00     45.00"
      ]
     },
     "execution_count": 5,
     "metadata": {},
     "output_type": "execute_result"
    }
   ],
   "source": [
    "df.describe()"
   ]
  },
  {
   "cell_type": "code",
   "execution_count": 6,
   "id": "98fdc9c2",
   "metadata": {},
   "outputs": [
    {
     "data": {
      "text/plain": [
       "countryCode        int64\n",
       "customerID        object\n",
       "PaperlessDate     object\n",
       "invoiceNumber      int64\n",
       "InvoiceDate       object\n",
       "DueDate           object\n",
       "InvoiceAmount    float64\n",
       "Disputed          object\n",
       "SettledDate       object\n",
       "PaperlessBill     object\n",
       "DaysToSettle       int64\n",
       "DaysLate           int64\n",
       "dtype: object"
      ]
     },
     "execution_count": 6,
     "metadata": {},
     "output_type": "execute_result"
    }
   ],
   "source": [
    "df.dtypes"
   ]
  },
  {
   "cell_type": "code",
   "execution_count": 7,
   "id": "871a0bbb",
   "metadata": {},
   "outputs": [],
   "source": [
    "df['InvoiceDate']=pd.to_datetime(df['InvoiceDate'])\n",
    "df['DueDate']=pd.to_datetime(df['DueDate'])\n",
    "df['SettledDate']=pd.to_datetime(df['SettledDate'])"
   ]
  },
  {
   "cell_type": "code",
   "execution_count": 8,
   "id": "bb4dbdac",
   "metadata": {},
   "outputs": [],
   "source": [
    "df['Actual_aging']=df['DueDate']-df['InvoiceDate']\n",
    "df['Actual_aging'] = df['Actual_aging'].dt.days.astype('int16')"
   ]
  },
  {
   "cell_type": "code",
   "execution_count": 9,
   "id": "11951043",
   "metadata": {},
   "outputs": [
    {
     "data": {
      "text/html": [
       "<div>\n",
       "<style scoped>\n",
       "    .dataframe tbody tr th:only-of-type {\n",
       "        vertical-align: middle;\n",
       "    }\n",
       "\n",
       "    .dataframe tbody tr th {\n",
       "        vertical-align: top;\n",
       "    }\n",
       "\n",
       "    .dataframe thead th {\n",
       "        text-align: right;\n",
       "    }\n",
       "</style>\n",
       "<table border=\"1\" class=\"dataframe\">\n",
       "  <thead>\n",
       "    <tr style=\"text-align: right;\">\n",
       "      <th></th>\n",
       "      <th>countryCode</th>\n",
       "      <th>customerID</th>\n",
       "      <th>PaperlessDate</th>\n",
       "      <th>invoiceNumber</th>\n",
       "      <th>InvoiceDate</th>\n",
       "      <th>DueDate</th>\n",
       "      <th>InvoiceAmount</th>\n",
       "      <th>Disputed</th>\n",
       "      <th>SettledDate</th>\n",
       "      <th>PaperlessBill</th>\n",
       "      <th>DaysToSettle</th>\n",
       "      <th>DaysLate</th>\n",
       "      <th>Actual_aging</th>\n",
       "    </tr>\n",
       "  </thead>\n",
       "  <tbody>\n",
       "    <tr>\n",
       "      <th>0</th>\n",
       "      <td>391</td>\n",
       "      <td>0379-NEVHP</td>\n",
       "      <td>4/6/2013</td>\n",
       "      <td>611365</td>\n",
       "      <td>2013-01-02</td>\n",
       "      <td>2013-02-01</td>\n",
       "      <td>55.94</td>\n",
       "      <td>No</td>\n",
       "      <td>2013-01-15</td>\n",
       "      <td>Paper</td>\n",
       "      <td>13</td>\n",
       "      <td>0</td>\n",
       "      <td>30</td>\n",
       "    </tr>\n",
       "    <tr>\n",
       "      <th>1</th>\n",
       "      <td>406</td>\n",
       "      <td>8976-AMJEO</td>\n",
       "      <td>3/3/2012</td>\n",
       "      <td>7900770</td>\n",
       "      <td>2013-01-26</td>\n",
       "      <td>2013-02-25</td>\n",
       "      <td>61.74</td>\n",
       "      <td>Yes</td>\n",
       "      <td>2013-03-03</td>\n",
       "      <td>Electronic</td>\n",
       "      <td>36</td>\n",
       "      <td>6</td>\n",
       "      <td>30</td>\n",
       "    </tr>\n",
       "    <tr>\n",
       "      <th>2</th>\n",
       "      <td>391</td>\n",
       "      <td>2820-XGXSB</td>\n",
       "      <td>1/26/2012</td>\n",
       "      <td>9231909</td>\n",
       "      <td>2013-07-03</td>\n",
       "      <td>2013-08-02</td>\n",
       "      <td>65.88</td>\n",
       "      <td>No</td>\n",
       "      <td>2013-07-08</td>\n",
       "      <td>Electronic</td>\n",
       "      <td>5</td>\n",
       "      <td>0</td>\n",
       "      <td>30</td>\n",
       "    </tr>\n",
       "    <tr>\n",
       "      <th>3</th>\n",
       "      <td>406</td>\n",
       "      <td>9322-YCTQO</td>\n",
       "      <td>4/6/2012</td>\n",
       "      <td>9888306</td>\n",
       "      <td>2013-02-10</td>\n",
       "      <td>2013-03-12</td>\n",
       "      <td>105.92</td>\n",
       "      <td>No</td>\n",
       "      <td>2013-03-17</td>\n",
       "      <td>Electronic</td>\n",
       "      <td>35</td>\n",
       "      <td>5</td>\n",
       "      <td>30</td>\n",
       "    </tr>\n",
       "    <tr>\n",
       "      <th>4</th>\n",
       "      <td>818</td>\n",
       "      <td>6627-ELFBK</td>\n",
       "      <td>11/26/2012</td>\n",
       "      <td>15752855</td>\n",
       "      <td>2012-10-25</td>\n",
       "      <td>2012-11-24</td>\n",
       "      <td>72.27</td>\n",
       "      <td>Yes</td>\n",
       "      <td>2012-11-28</td>\n",
       "      <td>Paper</td>\n",
       "      <td>34</td>\n",
       "      <td>4</td>\n",
       "      <td>30</td>\n",
       "    </tr>\n",
       "  </tbody>\n",
       "</table>\n",
       "</div>"
      ],
      "text/plain": [
       "   countryCode  customerID PaperlessDate  invoiceNumber InvoiceDate  \\\n",
       "0          391  0379-NEVHP      4/6/2013         611365  2013-01-02   \n",
       "1          406  8976-AMJEO      3/3/2012        7900770  2013-01-26   \n",
       "2          391  2820-XGXSB     1/26/2012        9231909  2013-07-03   \n",
       "3          406  9322-YCTQO      4/6/2012        9888306  2013-02-10   \n",
       "4          818  6627-ELFBK    11/26/2012       15752855  2012-10-25   \n",
       "\n",
       "     DueDate  InvoiceAmount Disputed SettledDate PaperlessBill  DaysToSettle  \\\n",
       "0 2013-02-01          55.94       No  2013-01-15         Paper            13   \n",
       "1 2013-02-25          61.74      Yes  2013-03-03    Electronic            36   \n",
       "2 2013-08-02          65.88       No  2013-07-08    Electronic             5   \n",
       "3 2013-03-12         105.92       No  2013-03-17    Electronic            35   \n",
       "4 2012-11-24          72.27      Yes  2012-11-28         Paper            34   \n",
       "\n",
       "   DaysLate  Actual_aging  \n",
       "0         0            30  \n",
       "1         6            30  \n",
       "2         0            30  \n",
       "3         5            30  \n",
       "4         4            30  "
      ]
     },
     "execution_count": 9,
     "metadata": {},
     "output_type": "execute_result"
    }
   ],
   "source": [
    "df.head()"
   ]
  },
  {
   "cell_type": "code",
   "execution_count": 10,
   "id": "9be6c9f7",
   "metadata": {},
   "outputs": [
    {
     "data": {
      "text/plain": [
       "countryCode         5\n",
       "customerID        100\n",
       "PaperlessDate      91\n",
       "invoiceNumber    2466\n",
       "InvoiceDate       681\n",
       "DueDate           681\n",
       "InvoiceAmount    2098\n",
       "Disputed            2\n",
       "SettledDate       695\n",
       "PaperlessBill       2\n",
       "DaysToSettle       67\n",
       "DaysLate           37\n",
       "Actual_aging        1\n",
       "dtype: int64"
      ]
     },
     "execution_count": 10,
     "metadata": {},
     "output_type": "execute_result"
    }
   ],
   "source": [
    "df.nunique()"
   ]
  },
  {
   "cell_type": "code",
   "execution_count": 11,
   "id": "88a54399",
   "metadata": {},
   "outputs": [
    {
     "data": {
      "text/plain": [
       "{'whiskers': [<matplotlib.lines.Line2D at 0x24b9a07a7f0>,\n",
       "  <matplotlib.lines.Line2D at 0x24b9a07aac0>],\n",
       " 'caps': [<matplotlib.lines.Line2D at 0x24b9a07ae50>,\n",
       "  <matplotlib.lines.Line2D at 0x24b9a093220>],\n",
       " 'boxes': [<matplotlib.lines.Line2D at 0x24b9a07a3a0>],\n",
       " 'medians': [<matplotlib.lines.Line2D at 0x24b9a0935b0>],\n",
       " 'fliers': [<matplotlib.lines.Line2D at 0x24b9a093940>],\n",
       " 'means': []}"
      ]
     },
     "execution_count": 11,
     "metadata": {},
     "output_type": "execute_result"
    },
    {
     "data": {
      "image/png": "[encoded data removed]",
      "text/plain": [
       "<Figure size 432x288 with 1 Axes>"
      ]
     },
     "metadata": {
      "needs_background": "light"
     },
     "output_type": "display_data"
    }
   ],
   "source": [
    "plt.boxplot(df['DaysLate'])"
   ]
  },
  {
   "cell_type": "code",
   "execution_count": 12,
   "id": "33238e02",
   "metadata": {},
   "outputs": [
    {
     "data": {
      "text/plain": [
       "{'whiskers': [<matplotlib.lines.Line2D at 0x24b9a16dbe0>,\n",
       "  <matplotlib.lines.Line2D at 0x24b9a16df70>],\n",
       " 'caps': [<matplotlib.lines.Line2D at 0x24b9a179340>,\n",
       "  <matplotlib.lines.Line2D at 0x24b9a1796d0>],\n",
       " 'boxes': [<matplotlib.lines.Line2D at 0x24b9a16d850>],\n",
       " 'medians': [<matplotlib.lines.Line2D at 0x24b9a179a60>],\n",
       " 'fliers': [<matplotlib.lines.Line2D at 0x24b9a179d90>],\n",
       " 'means': []}"
      ]
     },
     "execution_count": 12,
     "metadata": {},
     "output_type": "execute_result"
    },
    {
     "data": {
      "image/png": "[encoded data removed]",
      "text/plain": [
       "<Figure size 432x288 with 1 Axes>"
      ]
     },
     "metadata": {
      "needs_background": "light"
     },
     "output_type": "display_data"
    }
   ],
   "source": [
    "plt.boxplot(df['DaysToSettle'])"
   ]
  },
  {
   "cell_type": "code",
   "execution_count": 14,
   "id": "26478152",
   "metadata": {},
   "outputs": [
    {
     "data": {
      "text/plain": [
       "{'whiskers': [<matplotlib.lines.Line2D at 0x24b9a252700>,\n",
       "  <matplotlib.lines.Line2D at 0x24b9a252a90>],\n",
       " 'caps': [<matplotlib.lines.Line2D at 0x24b9a252e20>,\n",
       "  <matplotlib.lines.Line2D at 0x24b9a25d1f0>],\n",
       " 'boxes': [<matplotlib.lines.Line2D at 0x24b9a252370>],\n",
       " 'medians': [<matplotlib.lines.Line2D at 0x24b9a25d580>],\n",
       " 'fliers': [<matplotlib.lines.Line2D at 0x24b9a25d910>],\n",
       " 'means': []}"
      ]
     },
     "execution_count": 14,
     "metadata": {},
     "output_type": "execute_result"
    },
    {
     "data": {
      "image/png": "[encoded data removed]",
      "text/plain": [
       "<Figure size 432x288 with 1 Axes>"
      ]
     },
     "metadata": {
      "needs_background": "light"
     },
     "output_type": "display_data"
    }
   ],
   "source": [
    "plt.boxplot(df['Actual_aging'])"
   ]
  },
  {
   "cell_type": "code",
   "execution_count": 15,
   "id": "83b2b46a",
   "metadata": {},
   "outputs": [
    {
     "data": {
      "text/plain": [
       "count   2466.00\n",
       "mean      30.00\n",
       "std        0.00\n",
       "min       30.00\n",
       "25%       30.00\n",
       "50%       30.00\n",
       "75%       30.00\n",
       "max       30.00\n",
       "Name: Actual_aging, dtype: float64"
      ]
     },
     "execution_count": 15,
     "metadata": {},
     "output_type": "execute_result"
    }
   ],
   "source": [
    "df['Actual_aging'].describe()"
   ]
  },
  {
   "cell_type": "code",
   "execution_count": 16,
   "id": "1368b173",
   "metadata": {},
   "outputs": [
    {
     "data": {
      "text/plain": [
       "PaperlessBill\n",
       "Electronic   2.39\n",
       "Paper        4.44\n",
       "Name: DaysLate, dtype: float64"
      ]
     },
     "execution_count": 16,
     "metadata": {},
     "output_type": "execute_result"
    }
   ],
   "source": [
    "df.groupby('PaperlessBill').DaysLate.mean()"
   ]
  },
  {
   "cell_type": "code",
   "execution_count": 17,
   "id": "61543f9a",
   "metadata": {},
   "outputs": [
    {
     "data": {
      "text/plain": [
       "<AxesSubplot:title={'center':'Inv_count by customer'}, ylabel='Frequency'>"
      ]
     },
     "execution_count": 17,
     "metadata": {},
     "output_type": "execute_result"
    },
    {
     "data": {
      "image/png": "[encoded data removed]",
      "text/plain": [
       "<Figure size 1440x360 with 1 Axes>"
      ]
     },
     "metadata": {
      "needs_background": "light"
     },
     "output_type": "display_data"
    }
   ],
   "source": [
    "customerID_dayslate=df.groupby('customerID').invoiceNumber.count()\n",
    "\n",
    "customerID_dayslate.plot(kind='hist', title='Inv_count by customer', ylabel='Inv_count',\n",
    "         xlabel='CustomerID', figsize=(20, 5))"
   ]
  },
  {
   "cell_type": "code",
   "execution_count": 18,
   "id": "13520f41",
   "metadata": {},
   "outputs": [],
   "source": [
    "customerID_dayslate=pd.DataFrame(customerID_dayslate).reset_index()"
   ]
  },
  {
   "cell_type": "code",
   "execution_count": 19,
   "id": "b257c038",
   "metadata": {},
   "outputs": [
    {
     "data": {
      "text/plain": [
       "Index(['customerID', 'invoiceNumber'], dtype='object')"
      ]
     },
     "execution_count": 19,
     "metadata": {},
     "output_type": "execute_result"
    }
   ],
   "source": [
    "customerID_dayslate.columns"
   ]
  },
  {
   "cell_type": "code",
   "execution_count": null,
   "id": "a295df81",
   "metadata": {},
   "outputs": [],
   "source": [
    "# def customer_bucket(x):\n",
    "#     if x<=1:\n",
    "#         return \"Low_Delay_cust\"\n",
    "#     elif x>1 and x<=7:\n",
    "#             return \"Medium_delay_cust\"\n",
    "#     else:\n",
    "#             return \"Late_cust\"           "
   ]
  },
  {
   "cell_type": "code",
   "execution_count": null,
   "id": "0c65512f",
   "metadata": {},
   "outputs": [],
   "source": [
    "# customerID_dayslate['cust_delay_bucket']=customerID_dayslate.apply(lambda x:customer_bucket(x['DaysLate']),axis=1)"
   ]
  },
  {
   "cell_type": "code",
   "execution_count": null,
   "id": "72f798c2",
   "metadata": {},
   "outputs": [],
   "source": [
    "# customerID_dayslate['cust_delay_bucket'].value_counts()"
   ]
  },
  {
   "cell_type": "code",
   "execution_count": 20,
   "id": "3437e968",
   "metadata": {},
   "outputs": [],
   "source": [
    "df1=pd.merge(df,customerID_dayslate,on=['customerID'],how='left')"
   ]
  },
  {
   "cell_type": "code",
   "execution_count": 21,
   "id": "115617ae",
   "metadata": {},
   "outputs": [
    {
     "data": {
      "text/html": [
       "<div>\n",
       "<style scoped>\n",
       "    .dataframe tbody tr th:only-of-type {\n",
       "        vertical-align: middle;\n",
       "    }\n",
       "\n",
       "    .dataframe tbody tr th {\n",
       "        vertical-align: top;\n",
       "    }\n",
       "\n",
       "    .dataframe thead th {\n",
       "        text-align: right;\n",
       "    }\n",
       "</style>\n",
       "<table border=\"1\" class=\"dataframe\">\n",
       "  <thead>\n",
       "    <tr style=\"text-align: right;\">\n",
       "      <th></th>\n",
       "      <th>countryCode</th>\n",
       "      <th>customerID</th>\n",
       "      <th>PaperlessDate</th>\n",
       "      <th>invoiceNumber_x</th>\n",
       "      <th>InvoiceDate</th>\n",
       "      <th>DueDate</th>\n",
       "      <th>InvoiceAmount</th>\n",
       "      <th>Disputed</th>\n",
       "      <th>SettledDate</th>\n",
       "      <th>PaperlessBill</th>\n",
       "      <th>DaysToSettle</th>\n",
       "      <th>DaysLate</th>\n",
       "      <th>Actual_aging</th>\n",
       "      <th>invoiceNumber_y</th>\n",
       "    </tr>\n",
       "  </thead>\n",
       "  <tbody>\n",
       "    <tr>\n",
       "      <th>0</th>\n",
       "      <td>391</td>\n",
       "      <td>0379-NEVHP</td>\n",
       "      <td>4/6/2013</td>\n",
       "      <td>611365</td>\n",
       "      <td>2013-01-02</td>\n",
       "      <td>2013-02-01</td>\n",
       "      <td>55.94</td>\n",
       "      <td>No</td>\n",
       "      <td>2013-01-15</td>\n",
       "      <td>Paper</td>\n",
       "      <td>13</td>\n",
       "      <td>0</td>\n",
       "      <td>30</td>\n",
       "      <td>27</td>\n",
       "    </tr>\n",
       "    <tr>\n",
       "      <th>1</th>\n",
       "      <td>406</td>\n",
       "      <td>8976-AMJEO</td>\n",
       "      <td>3/3/2012</td>\n",
       "      <td>7900770</td>\n",
       "      <td>2013-01-26</td>\n",
       "      <td>2013-02-25</td>\n",
       "      <td>61.74</td>\n",
       "      <td>Yes</td>\n",
       "      <td>2013-03-03</td>\n",
       "      <td>Electronic</td>\n",
       "      <td>36</td>\n",
       "      <td>6</td>\n",
       "      <td>30</td>\n",
       "      <td>27</td>\n",
       "    </tr>\n",
       "    <tr>\n",
       "      <th>2</th>\n",
       "      <td>391</td>\n",
       "      <td>2820-XGXSB</td>\n",
       "      <td>1/26/2012</td>\n",
       "      <td>9231909</td>\n",
       "      <td>2013-07-03</td>\n",
       "      <td>2013-08-02</td>\n",
       "      <td>65.88</td>\n",
       "      <td>No</td>\n",
       "      <td>2013-07-08</td>\n",
       "      <td>Electronic</td>\n",
       "      <td>5</td>\n",
       "      <td>0</td>\n",
       "      <td>30</td>\n",
       "      <td>24</td>\n",
       "    </tr>\n",
       "    <tr>\n",
       "      <th>3</th>\n",
       "      <td>406</td>\n",
       "      <td>9322-YCTQO</td>\n",
       "      <td>4/6/2012</td>\n",
       "      <td>9888306</td>\n",
       "      <td>2013-02-10</td>\n",
       "      <td>2013-03-12</td>\n",
       "      <td>105.92</td>\n",
       "      <td>No</td>\n",
       "      <td>2013-03-17</td>\n",
       "      <td>Electronic</td>\n",
       "      <td>35</td>\n",
       "      <td>5</td>\n",
       "      <td>30</td>\n",
       "      <td>19</td>\n",
       "    </tr>\n",
       "    <tr>\n",
       "      <th>4</th>\n",
       "      <td>818</td>\n",
       "      <td>6627-ELFBK</td>\n",
       "      <td>11/26/2012</td>\n",
       "      <td>15752855</td>\n",
       "      <td>2012-10-25</td>\n",
       "      <td>2012-11-24</td>\n",
       "      <td>72.27</td>\n",
       "      <td>Yes</td>\n",
       "      <td>2012-11-28</td>\n",
       "      <td>Paper</td>\n",
       "      <td>34</td>\n",
       "      <td>4</td>\n",
       "      <td>30</td>\n",
       "      <td>27</td>\n",
       "    </tr>\n",
       "  </tbody>\n",
       "</table>\n",
       "</div>"
      ],
      "text/plain": [
       "   countryCode  customerID PaperlessDate  invoiceNumber_x InvoiceDate  \\\n",
       "0          391  0379-NEVHP      4/6/2013           611365  2013-01-02   \n",
       "1          406  8976-AMJEO      3/3/2012          7900770  2013-01-26   \n",
       "2          391  2820-XGXSB     1/26/2012          9231909  2013-07-03   \n",
       "3          406  9322-YCTQO      4/6/2012          9888306  2013-02-10   \n",
       "4          818  6627-ELFBK    11/26/2012         15752855  2012-10-25   \n",
       "\n",
       "     DueDate  InvoiceAmount Disputed SettledDate PaperlessBill  DaysToSettle  \\\n",
       "0 2013-02-01          55.94       No  2013-01-15         Paper            13   \n",
       "1 2013-02-25          61.74      Yes  2013-03-03    Electronic            36   \n",
       "2 2013-08-02          65.88       No  2013-07-08    Electronic             5   \n",
       "3 2013-03-12         105.92       No  2013-03-17    Electronic            35   \n",
       "4 2012-11-24          72.27      Yes  2012-11-28         Paper            34   \n",
       "\n",
       "   DaysLate  Actual_aging  invoiceNumber_y  \n",
       "0         0            30               27  \n",
       "1         6            30               27  \n",
       "2         0            30               24  \n",
       "3         5            30               19  \n",
       "4         4            30               27  "
      ]
     },
     "execution_count": 21,
     "metadata": {},
     "output_type": "execute_result"
    }
   ],
   "source": [
    "df1.head()"
   ]
  },
  {
   "cell_type": "code",
   "execution_count": 22,
   "id": "3d5a8643",
   "metadata": {},
   "outputs": [
    {
     "data": {
      "text/plain": [
       "countryCode                 int64\n",
       "customerID                 object\n",
       "PaperlessDate              object\n",
       "invoiceNumber_x             int64\n",
       "InvoiceDate        datetime64[ns]\n",
       "DueDate            datetime64[ns]\n",
       "InvoiceAmount             float64\n",
       "Disputed                   object\n",
       "SettledDate        datetime64[ns]\n",
       "PaperlessBill              object\n",
       "DaysToSettle                int64\n",
       "DaysLate                    int64\n",
       "Actual_aging                int16\n",
       "invoiceNumber_y             int64\n",
       "dtype: object"
      ]
     },
     "execution_count": 22,
     "metadata": {},
     "output_type": "execute_result"
    }
   ],
   "source": [
    "df1.dtypes"
   ]
  },
  {
   "cell_type": "markdown",
   "id": "9f701603",
   "metadata": {},
   "source": [
    "***Correlation***"
   ]
  },
  {
   "cell_type": "code",
   "execution_count": 28,
   "id": "79e23d3e",
   "metadata": {},
   "outputs": [],
   "source": [
    "corrdata=df1.select_dtypes(exclude=['object'])\n",
    "exc_columns=['countryCode','invoiceNumber_x','invoiceNumber_y','InvoiceDate','DueDate','SettledDate','Actual_aging']\n",
    "corrdata=corrdata.drop(exc_columns,axis='columns')"
   ]
  },
  {
   "cell_type": "code",
   "execution_count": 29,
   "id": "e5470ef7",
   "metadata": {},
   "outputs": [
    {
     "data": {
      "text/html": [
       "<div>\n",
       "<style scoped>\n",
       "    .dataframe tbody tr th:only-of-type {\n",
       "        vertical-align: middle;\n",
       "    }\n",
       "\n",
       "    .dataframe tbody tr th {\n",
       "        vertical-align: top;\n",
       "    }\n",
       "\n",
       "    .dataframe thead th {\n",
       "        text-align: right;\n",
       "    }\n",
       "</style>\n",
       "<table border=\"1\" class=\"dataframe\">\n",
       "  <thead>\n",
       "    <tr style=\"text-align: right;\">\n",
       "      <th></th>\n",
       "      <th>InvoiceAmount</th>\n",
       "      <th>DaysToSettle</th>\n",
       "      <th>DaysLate</th>\n",
       "    </tr>\n",
       "  </thead>\n",
       "  <tbody>\n",
       "    <tr>\n",
       "      <th>0</th>\n",
       "      <td>55.94</td>\n",
       "      <td>13</td>\n",
       "      <td>0</td>\n",
       "    </tr>\n",
       "    <tr>\n",
       "      <th>1</th>\n",
       "      <td>61.74</td>\n",
       "      <td>36</td>\n",
       "      <td>6</td>\n",
       "    </tr>\n",
       "    <tr>\n",
       "      <th>2</th>\n",
       "      <td>65.88</td>\n",
       "      <td>5</td>\n",
       "      <td>0</td>\n",
       "    </tr>\n",
       "    <tr>\n",
       "      <th>3</th>\n",
       "      <td>105.92</td>\n",
       "      <td>35</td>\n",
       "      <td>5</td>\n",
       "    </tr>\n",
       "    <tr>\n",
       "      <th>4</th>\n",
       "      <td>72.27</td>\n",
       "      <td>34</td>\n",
       "      <td>4</td>\n",
       "    </tr>\n",
       "  </tbody>\n",
       "</table>\n",
       "</div>"
      ],
      "text/plain": [
       "   InvoiceAmount  DaysToSettle  DaysLate\n",
       "0          55.94            13         0\n",
       "1          61.74            36         6\n",
       "2          65.88             5         0\n",
       "3         105.92            35         5\n",
       "4          72.27            34         4"
      ]
     },
     "execution_count": 29,
     "metadata": {},
     "output_type": "execute_result"
    }
   ],
   "source": [
    "corrdata.head()"
   ]
  },
  {
   "cell_type": "code",
   "execution_count": 30,
   "id": "9f5fe401",
   "metadata": {},
   "outputs": [
    {
     "data": {
      "image/png": "[encoded data removed]",
      "text/plain": [
       "<Figure size 720x720 with 2 Axes>"
      ]
     },
     "metadata": {
      "needs_background": "light"
     },
     "output_type": "display_data"
    }
   ],
   "source": [
    "corremat = corrdata.corr()\n",
    "plt.figure(figsize=(10,10))\n",
    "g= sns.heatmap(corrdata.corr(),annot=True,cmap='viridis',linewidths=.5)"
   ]
  },
  {
   "cell_type": "code",
   "execution_count": 32,
   "id": "48e5908d",
   "metadata": {},
   "outputs": [],
   "source": [
    "def numeric_to_categoric(x):\n",
    "    if x == 0: return \"0 days\"\n",
    "    elif x <= 2: return \"(0-2] days\"\n",
    "    elif x <= 4: return \"(2-4] days\"\n",
    "    elif x <= 6: return \"(4-6] days\"\n",
    "    elif x <= 8: return \"(6-8] days\"\n",
    "    elif x <= 10: return \"(8-10] days\"\n",
    "    else: return \"(10-) days\"\n",
    "df1['DaysLate'] = df1['DaysLate'].apply(numeric_to_categoric)"
   ]
  },
  {
   "cell_type": "code",
   "execution_count": 33,
   "id": "4885fe05",
   "metadata": {},
   "outputs": [
    {
     "data": {
      "text/plain": [
       "<AxesSubplot:title={'center':'DaysLate'}>"
      ]
     },
     "execution_count": 33,
     "metadata": {},
     "output_type": "execute_result"
    },
    {
     "data": {
      "image/png": "[encoded data removed]",
      "text/plain": [
       "<Figure size 432x288 with 1 Axes>"
      ]
     },
     "metadata": {
      "needs_background": "light"
     },
     "output_type": "display_data"
    }
   ],
   "source": [
    "df1['DaysLate'].value_counts().plot(kind='barh', title='DaysLate')"
   ]
  },
  {
   "cell_type": "code",
   "execution_count": 34,
   "id": "2bd31641",
   "metadata": {},
   "outputs": [],
   "source": [
    "df1['countryCode']=df1['countryCode'].astype(str)"
   ]
  },
  {
   "cell_type": "code",
   "execution_count": 41,
   "id": "2a3f8af6",
   "metadata": {},
   "outputs": [],
   "source": [
    "col_to_drop=['Actual_aging','invoiceNumber_x','customerID','InvoiceDate','DueDate','SettledDate','PaperlessDate','DaysToSettle']\n",
    "df2=df1.drop(col_to_drop,axis=1)"
   ]
  },
  {
   "cell_type": "code",
   "execution_count": 42,
   "id": "487a39f6",
   "metadata": {},
   "outputs": [
    {
     "data": {
      "text/html": [
       "<div>\n",
       "<style scoped>\n",
       "    .dataframe tbody tr th:only-of-type {\n",
       "        vertical-align: middle;\n",
       "    }\n",
       "\n",
       "    .dataframe tbody tr th {\n",
       "        vertical-align: top;\n",
       "    }\n",
       "\n",
       "    .dataframe thead th {\n",
       "        text-align: right;\n",
       "    }\n",
       "</style>\n",
       "<table border=\"1\" class=\"dataframe\">\n",
       "  <thead>\n",
       "    <tr style=\"text-align: right;\">\n",
       "      <th></th>\n",
       "      <th>countryCode</th>\n",
       "      <th>InvoiceAmount</th>\n",
       "      <th>Disputed</th>\n",
       "      <th>PaperlessBill</th>\n",
       "      <th>DaysLate</th>\n",
       "      <th>invoiceNumber_y</th>\n",
       "    </tr>\n",
       "  </thead>\n",
       "  <tbody>\n",
       "    <tr>\n",
       "      <th>0</th>\n",
       "      <td>391</td>\n",
       "      <td>55.94</td>\n",
       "      <td>No</td>\n",
       "      <td>Paper</td>\n",
       "      <td>0 days</td>\n",
       "      <td>27</td>\n",
       "    </tr>\n",
       "    <tr>\n",
       "      <th>1</th>\n",
       "      <td>406</td>\n",
       "      <td>61.74</td>\n",
       "      <td>Yes</td>\n",
       "      <td>Electronic</td>\n",
       "      <td>(4-6] days</td>\n",
       "      <td>27</td>\n",
       "    </tr>\n",
       "    <tr>\n",
       "      <th>2</th>\n",
       "      <td>391</td>\n",
       "      <td>65.88</td>\n",
       "      <td>No</td>\n",
       "      <td>Electronic</td>\n",
       "      <td>0 days</td>\n",
       "      <td>24</td>\n",
       "    </tr>\n",
       "    <tr>\n",
       "      <th>3</th>\n",
       "      <td>406</td>\n",
       "      <td>105.92</td>\n",
       "      <td>No</td>\n",
       "      <td>Electronic</td>\n",
       "      <td>(4-6] days</td>\n",
       "      <td>19</td>\n",
       "    </tr>\n",
       "    <tr>\n",
       "      <th>4</th>\n",
       "      <td>818</td>\n",
       "      <td>72.27</td>\n",
       "      <td>Yes</td>\n",
       "      <td>Paper</td>\n",
       "      <td>(2-4] days</td>\n",
       "      <td>27</td>\n",
       "    </tr>\n",
       "  </tbody>\n",
       "</table>\n",
       "</div>"
      ],
      "text/plain": [
       "  countryCode  InvoiceAmount Disputed PaperlessBill    DaysLate  \\\n",
       "0         391          55.94       No         Paper      0 days   \n",
       "1         406          61.74      Yes    Electronic  (4-6] days   \n",
       "2         391          65.88       No    Electronic      0 days   \n",
       "3         406         105.92       No    Electronic  (4-6] days   \n",
       "4         818          72.27      Yes         Paper  (2-4] days   \n",
       "\n",
       "   invoiceNumber_y  \n",
       "0               27  \n",
       "1               27  \n",
       "2               24  \n",
       "3               19  \n",
       "4               27  "
      ]
     },
     "execution_count": 42,
     "metadata": {},
     "output_type": "execute_result"
    }
   ],
   "source": [
    "df2.head()"
   ]
  },
  {
   "cell_type": "code",
   "execution_count": 43,
   "id": "174037de",
   "metadata": {},
   "outputs": [],
   "source": [
    "df2['Disputed'].replace({\"Yes\":1,\"No\":0},inplace=True)\n",
    "df2['PaperlessBill'].replace({\"Paper\":1,\"Electronic\":0},inplace=True)"
   ]
  },
  {
   "cell_type": "code",
   "execution_count": 45,
   "id": "93028744",
   "metadata": {},
   "outputs": [],
   "source": [
    "col_to_dummy=['countryCode']\n",
    "df3=pd.get_dummies(data=df2,columns=col_to_dummy,drop_first=True)\n"
   ]
  },
  {
   "cell_type": "code",
   "execution_count": 46,
   "id": "f171d967",
   "metadata": {},
   "outputs": [
    {
     "data": {
      "text/html": [
       "<div>\n",
       "<style scoped>\n",
       "    .dataframe tbody tr th:only-of-type {\n",
       "        vertical-align: middle;\n",
       "    }\n",
       "\n",
       "    .dataframe tbody tr th {\n",
       "        vertical-align: top;\n",
       "    }\n",
       "\n",
       "    .dataframe thead th {\n",
       "        text-align: right;\n",
       "    }\n",
       "</style>\n",
       "<table border=\"1\" class=\"dataframe\">\n",
       "  <thead>\n",
       "    <tr style=\"text-align: right;\">\n",
       "      <th></th>\n",
       "      <th>InvoiceAmount</th>\n",
       "      <th>Disputed</th>\n",
       "      <th>PaperlessBill</th>\n",
       "      <th>DaysLate</th>\n",
       "      <th>invoiceNumber_y</th>\n",
       "      <th>countryCode_406</th>\n",
       "      <th>countryCode_770</th>\n",
       "      <th>countryCode_818</th>\n",
       "      <th>countryCode_897</th>\n",
       "    </tr>\n",
       "  </thead>\n",
       "  <tbody>\n",
       "    <tr>\n",
       "      <th>0</th>\n",
       "      <td>55.94</td>\n",
       "      <td>0</td>\n",
       "      <td>1</td>\n",
       "      <td>0 days</td>\n",
       "      <td>27</td>\n",
       "      <td>0</td>\n",
       "      <td>0</td>\n",
       "      <td>0</td>\n",
       "      <td>0</td>\n",
       "    </tr>\n",
       "    <tr>\n",
       "      <th>1</th>\n",
       "      <td>61.74</td>\n",
       "      <td>1</td>\n",
       "      <td>0</td>\n",
       "      <td>(4-6] days</td>\n",
       "      <td>27</td>\n",
       "      <td>1</td>\n",
       "      <td>0</td>\n",
       "      <td>0</td>\n",
       "      <td>0</td>\n",
       "    </tr>\n",
       "    <tr>\n",
       "      <th>2</th>\n",
       "      <td>65.88</td>\n",
       "      <td>0</td>\n",
       "      <td>0</td>\n",
       "      <td>0 days</td>\n",
       "      <td>24</td>\n",
       "      <td>0</td>\n",
       "      <td>0</td>\n",
       "      <td>0</td>\n",
       "      <td>0</td>\n",
       "    </tr>\n",
       "    <tr>\n",
       "      <th>3</th>\n",
       "      <td>105.92</td>\n",
       "      <td>0</td>\n",
       "      <td>0</td>\n",
       "      <td>(4-6] days</td>\n",
       "      <td>19</td>\n",
       "      <td>1</td>\n",
       "      <td>0</td>\n",
       "      <td>0</td>\n",
       "      <td>0</td>\n",
       "    </tr>\n",
       "    <tr>\n",
       "      <th>4</th>\n",
       "      <td>72.27</td>\n",
       "      <td>1</td>\n",
       "      <td>1</td>\n",
       "      <td>(2-4] days</td>\n",
       "      <td>27</td>\n",
       "      <td>0</td>\n",
       "      <td>0</td>\n",
       "      <td>1</td>\n",
       "      <td>0</td>\n",
       "    </tr>\n",
       "  </tbody>\n",
       "</table>\n",
       "</div>"
      ],
      "text/plain": [
       "   InvoiceAmount  Disputed  PaperlessBill    DaysLate  invoiceNumber_y  \\\n",
       "0          55.94         0              1      0 days               27   \n",
       "1          61.74         1              0  (4-6] days               27   \n",
       "2          65.88         0              0      0 days               24   \n",
       "3         105.92         0              0  (4-6] days               19   \n",
       "4          72.27         1              1  (2-4] days               27   \n",
       "\n",
       "   countryCode_406  countryCode_770  countryCode_818  countryCode_897  \n",
       "0                0                0                0                0  \n",
       "1                1                0                0                0  \n",
       "2                0                0                0                0  \n",
       "3                1                0                0                0  \n",
       "4                0                0                1                0  "
      ]
     },
     "execution_count": 46,
     "metadata": {},
     "output_type": "execute_result"
    }
   ],
   "source": [
    "df3.head()"
   ]
  },
  {
   "cell_type": "markdown",
   "id": "f3982f70",
   "metadata": {},
   "source": [
    "**scale some of the variable***"
   ]
  },
  {
   "cell_type": "code",
   "execution_count": 47,
   "id": "cb5411d4",
   "metadata": {},
   "outputs": [],
   "source": [
    "from sklearn.preprocessing import MinMaxScaler\n",
    "columns_to_scale=['InvoiceAmount','invoiceNumber_y']\n",
    "scaler=MinMaxScaler()\n",
    "df3[columns_to_scale]=scaler.fit_transform(df3[columns_to_scale])"
   ]
  },
  {
   "cell_type": "code",
   "execution_count": 48,
   "id": "5f667b56",
   "metadata": {},
   "outputs": [],
   "source": [
    "df4=df3.copy()  #### Data to be used for neural network"
   ]
  },
  {
   "cell_type": "code",
   "execution_count": 49,
   "id": "f003c515",
   "metadata": {},
   "outputs": [
    {
     "data": {
      "text/plain": [
       "(2466, 9)"
      ]
     },
     "execution_count": 49,
     "metadata": {},
     "output_type": "execute_result"
    }
   ],
   "source": [
    "df4.shape"
   ]
  },
  {
   "cell_type": "markdown",
   "id": "4d3b46dc",
   "metadata": {},
   "source": [
    "**Split Data to train & test**"
   ]
  },
  {
   "cell_type": "code",
   "execution_count": 51,
   "id": "87c6b7b4",
   "metadata": {},
   "outputs": [],
   "source": [
    "X = df3.drop('DaysLate',axis='columns')\n",
    "y= df3['DaysLate']\n",
    "\n",
    "from sklearn.model_selection import train_test_split\n",
    "X_train, X_test, y_train, y_test = train_test_split(X,y,test_size=0.2,random_state=5)"
   ]
  },
  {
   "cell_type": "code",
   "execution_count": 52,
   "id": "8e3bbc9c",
   "metadata": {},
   "outputs": [
    {
     "data": {
      "text/plain": [
       "(1972, 8)"
      ]
     },
     "execution_count": 52,
     "metadata": {},
     "output_type": "execute_result"
    }
   ],
   "source": [
    "X_train.shape"
   ]
  },
  {
   "cell_type": "code",
   "execution_count": 53,
   "id": "471a07c0",
   "metadata": {},
   "outputs": [
    {
     "data": {
      "text/plain": [
       "(1972,)"
      ]
     },
     "execution_count": 53,
     "metadata": {},
     "output_type": "execute_result"
    }
   ],
   "source": [
    "y_train.shape"
   ]
  },
  {
   "cell_type": "code",
   "execution_count": 54,
   "id": "a89c7859",
   "metadata": {},
   "outputs": [
    {
     "name": "stdout",
     "output_type": "stream",
     "text": [
      "Accuracy: 0.645748987854251\n"
     ]
    },
    {
     "data": {
      "image/png": "[encoded data removed]",
      "text/plain": [
       "<Figure size 432x288 with 2 Axes>"
      ]
     },
     "metadata": {
      "needs_background": "light"
     },
     "output_type": "display_data"
    }
   ],
   "source": [
    "#Logistic Regression Model\n",
    "logr = LogisticRegression(random_state=0)\n",
    "logr.fit(X_train,y_train.values.ravel())\n",
    "\n",
    "y_pred = logr.predict(X_test)\n",
    "\n",
    "acc = accuracy_score(y_test, y_pred)\n",
    "print('Accuracy:',acc)\n",
    "\n",
    "plot_confusion_matrix(logr, X_test, y_test,xticks_rotation='vertical')  \n",
    "plt.show()\n",
    "\n"
   ]
  },
  {
   "cell_type": "code",
   "execution_count": 55,
   "id": "0df09055",
   "metadata": {},
   "outputs": [
    {
     "name": "stdout",
     "output_type": "stream",
     "text": [
      "Accuracy: 0.5465587044534413\n"
     ]
    },
    {
     "data": {
      "image/png": "[encoded data removed]",
      "text/plain": [
       "<Figure size 432x288 with 2 Axes>"
      ]
     },
     "metadata": {
      "needs_background": "light"
     },
     "output_type": "display_data"
    }
   ],
   "source": [
    "#Decision Tree Model\n",
    "dtc = DecisionTreeClassifier(criterion = 'entropy')\n",
    "dtc.fit(X_train,y_train.values.ravel())\n",
    "\n",
    "y_pred = dtc.predict(X_test)\n",
    "\n",
    "acc = accuracy_score(y_test, y_pred)\n",
    "print('Accuracy:',acc)\n",
    "\n",
    "plot_confusion_matrix(dtc, X_test, y_test,xticks_rotation='vertical')  \n",
    "plt.show()"
   ]
  },
  {
   "cell_type": "code",
   "execution_count": 56,
   "id": "e2f9c98f",
   "metadata": {},
   "outputs": [
    {
     "name": "stdout",
     "output_type": "stream",
     "text": [
      "Accuracy: 0.5910931174089069\n"
     ]
    },
    {
     "data": {
      "image/png": "[encoded data removed]",
      "text/plain": [
       "<Figure size 432x288 with 2 Axes>"
      ]
     },
     "metadata": {
      "needs_background": "light"
     },
     "output_type": "display_data"
    }
   ],
   "source": [
    "#Random Forest Model\n",
    "rfc = RandomForestClassifier(n_estimators=10, criterion = 'entropy')\n",
    "rfc.fit(X_train,y_train.values.ravel())\n",
    "\n",
    "y_pred = rfc.predict(X_test)\n",
    "\n",
    "acc = accuracy_score(y_test, y_pred)\n",
    "print('Accuracy:',acc)\n",
    "\n",
    "plot_confusion_matrix(rfc, X_test, y_test,xticks_rotation='vertical')  \n",
    "plt.show()"
   ]
  },
  {
   "cell_type": "markdown",
   "id": "97b7ee1e",
   "metadata": {},
   "source": [
    "***Neural Network*****"
   ]
  },
  {
   "cell_type": "code",
   "execution_count": 58,
   "id": "0b49c6e4",
   "metadata": {},
   "outputs": [],
   "source": [
    "#Train Test Split\n",
    "y = pd.DataFrame(df4['DaysLate'])\n",
    "\n",
    "X = df4.drop('DaysLate',axis='columns')"
   ]
  },
  {
   "cell_type": "code",
   "execution_count": 59,
   "id": "df3a5b8e",
   "metadata": {},
   "outputs": [],
   "source": [
    "from sklearn.model_selection import train_test_split\n",
    "X_train, X_test, y_train, y_test = train_test_split(X,y,test_size=0.2,random_state=5)"
   ]
  },
  {
   "cell_type": "code",
   "execution_count": 60,
   "id": "9c6f0a66",
   "metadata": {},
   "outputs": [
    {
     "data": {
      "text/html": [
       "<div>\n",
       "<style scoped>\n",
       "    .dataframe tbody tr th:only-of-type {\n",
       "        vertical-align: middle;\n",
       "    }\n",
       "\n",
       "    .dataframe tbody tr th {\n",
       "        vertical-align: top;\n",
       "    }\n",
       "\n",
       "    .dataframe thead th {\n",
       "        text-align: right;\n",
       "    }\n",
       "</style>\n",
       "<table border=\"1\" class=\"dataframe\">\n",
       "  <thead>\n",
       "    <tr style=\"text-align: right;\">\n",
       "      <th></th>\n",
       "      <th>DaysLate</th>\n",
       "    </tr>\n",
       "  </thead>\n",
       "  <tbody>\n",
       "    <tr>\n",
       "      <th>346</th>\n",
       "      <td>(2-4] days</td>\n",
       "    </tr>\n",
       "    <tr>\n",
       "      <th>1279</th>\n",
       "      <td>(10-) days</td>\n",
       "    </tr>\n",
       "    <tr>\n",
       "      <th>824</th>\n",
       "      <td>0 days</td>\n",
       "    </tr>\n",
       "    <tr>\n",
       "      <th>2398</th>\n",
       "      <td>0 days</td>\n",
       "    </tr>\n",
       "    <tr>\n",
       "      <th>1981</th>\n",
       "      <td>0 days</td>\n",
       "    </tr>\n",
       "  </tbody>\n",
       "</table>\n",
       "</div>"
      ],
      "text/plain": [
       "        DaysLate\n",
       "346   (2-4] days\n",
       "1279  (10-) days\n",
       "824       0 days\n",
       "2398      0 days\n",
       "1981      0 days"
      ]
     },
     "execution_count": 60,
     "metadata": {},
     "output_type": "execute_result"
    }
   ],
   "source": [
    "y_train.head()"
   ]
  },
  {
   "cell_type": "code",
   "execution_count": 62,
   "id": "ad499522",
   "metadata": {},
   "outputs": [
    {
     "name": "stderr",
     "output_type": "stream",
     "text": [
      "<ipython-input-62-f982c1c92f5d>:9: SettingWithCopyWarning: \n",
      "A value is trying to be set on a copy of a slice from a DataFrame.\n",
      "Try using .loc[row_indexer,col_indexer] = value instead\n",
      "\n",
      "See the caveats in the documentation: https://pandas.pydata.org/pandas-docs/stable/user_guide/indexing.html#returning-a-view-versus-a-copy\n",
      "  y_train['DaysLate'] = y_train['DaysLate'].apply(numeric_to_categoric)\n",
      "<ipython-input-62-f982c1c92f5d>:10: SettingWithCopyWarning: \n",
      "A value is trying to be set on a copy of a slice from a DataFrame.\n",
      "Try using .loc[row_indexer,col_indexer] = value instead\n",
      "\n",
      "See the caveats in the documentation: https://pandas.pydata.org/pandas-docs/stable/user_guide/indexing.html#returning-a-view-versus-a-copy\n",
      "  y_test['DaysLate'] = y_test['DaysLate'].apply(numeric_to_categoric)\n"
     ]
    }
   ],
   "source": [
    "def numeric_to_categoric(x):\n",
    "    if x == \"0 days\": return 0\n",
    "    elif x == \"(0-2] days\": return 1\n",
    "    elif x == \"(2-4] days\": return 2\n",
    "    elif x == \"(4-6] days\": return 3\n",
    "    elif x == \"(6-8] days\": return 4\n",
    "    elif x == \"(8-10] days\": return 5\n",
    "    else: return 6\n",
    "y_train['DaysLate'] = y_train['DaysLate'].apply(numeric_to_categoric)\n",
    "y_test['DaysLate'] = y_test['DaysLate'].apply(numeric_to_categoric)\n"
   ]
  },
  {
   "cell_type": "code",
   "execution_count": 63,
   "id": "0fc03e9a",
   "metadata": {},
   "outputs": [
    {
     "data": {
      "text/plain": [
       "8"
      ]
     },
     "execution_count": 63,
     "metadata": {},
     "output_type": "execute_result"
    }
   ],
   "source": [
    "len(X_test.columns)"
   ]
  },
  {
   "cell_type": "code",
   "execution_count": 64,
   "id": "24184664",
   "metadata": {},
   "outputs": [
    {
     "data": {
      "text/plain": [
       "1"
      ]
     },
     "execution_count": 64,
     "metadata": {},
     "output_type": "execute_result"
    }
   ],
   "source": [
    "len(y_test.columns)"
   ]
  },
  {
   "cell_type": "code",
   "execution_count": 66,
   "id": "21618ec2",
   "metadata": {},
   "outputs": [
    {
     "name": "stdout",
     "output_type": "stream",
     "text": [
      "Epoch 1/10\n",
      "62/62 [==============================] - 1s 2ms/step - loss: 0.0000e+00 - accuracy: 0.4062\n",
      "Epoch 2/10\n",
      "62/62 [==============================] - 0s 2ms/step - loss: 0.0000e+00 - accuracy: 0.0923\n",
      "Epoch 3/10\n",
      "62/62 [==============================] - 0s 2ms/step - loss: 0.0000e+00 - accuracy: 0.0497\n",
      "Epoch 4/10\n",
      "62/62 [==============================] - 0s 2ms/step - loss: 0.0000e+00 - accuracy: 0.0497 ETA: 0s - loss: 0.0000e+00 - accuracy: 0.0437\n",
      "Epoch 5/10\n",
      "62/62 [==============================] - 0s 2ms/step - loss: 0.0000e+00 - accuracy: 0.0497\n",
      "Epoch 6/10\n",
      "62/62 [==============================] - 0s 2ms/step - loss: 0.0000e+00 - accuracy: 0.0497\n",
      "Epoch 7/10\n",
      "62/62 [==============================] - 0s 2ms/step - loss: 0.0000e+00 - accuracy: 0.0497\n",
      "Epoch 8/10\n",
      "62/62 [==============================] - 0s 2ms/step - loss: 0.0000e+00 - accuracy: 0.0497\n",
      "Epoch 9/10\n",
      "62/62 [==============================] - 0s 2ms/step - loss: 0.0000e+00 - accuracy: 0.0497\n",
      "Epoch 10/10\n",
      "62/62 [==============================] - 0s 2ms/step - loss: 0.0000e+00 - accuracy: 0.0497\n"
     ]
    },
    {
     "data": {
      "text/plain": [
       "<tensorflow.python.keras.callbacks.History at 0x24ba37ac3d0>"
      ]
     },
     "execution_count": 66,
     "metadata": {},
     "output_type": "execute_result"
    }
   ],
   "source": [
    "import tensorflow as tf\n",
    "from tensorflow import keras\n",
    "\n",
    "\n",
    "model = keras.Sequential([\n",
    "    keras.layers.Dense(8, input_shape=(8,), activation='relu'),\n",
    "    keras.layers.Dense(3, activation='relu'),\n",
    "    keras.layers.Dense(1, activation='sigmoid')\n",
    "])\n",
    "\n",
    "#opt = keras.optimizers.Adam(learning_rate=0.01)\n",
    "\n",
    "model.compile(optimizer='adam',\n",
    "              loss='categorical_crossentropy',\n",
    "              metrics=['accuracy'])\n",
    "\n",
    "model.fit(X_train, y_train, epochs=10)\n",
    "\n"
   ]
  },
  {
   "cell_type": "code",
   "execution_count": 67,
   "id": "03e20b03",
   "metadata": {},
   "outputs": [
    {
     "name": "stdout",
     "output_type": "stream",
     "text": [
      "16/16 [==============================] - 0s 3ms/step - loss: 0.0000e+00 - accuracy: 0.0567\n"
     ]
    },
    {
     "data": {
      "text/plain": [
       "[0.0, 0.056680161505937576]"
      ]
     },
     "execution_count": 67,
     "metadata": {},
     "output_type": "execute_result"
    }
   ],
   "source": [
    "model.evaluate(X_test, y_test)"
   ]
  }
 ],
 "metadata": {
  "kernelspec": {
   "display_name": "Python 3",
   "language": "python",
   "name": "python3"
  },
  "language_info": {
   "codemirror_mode": {
    "name": "ipython",
    "version": 3
   },
   "file_extension": ".py",
   "mimetype": "text/x-python",
   "name": "python",
   "nbconvert_exporter": "python",
   "pygments_lexer": "ipython3",
   "version": "3.9.5"
  }
 },
 "nbformat": 4,
 "nbformat_minor": 5
}
